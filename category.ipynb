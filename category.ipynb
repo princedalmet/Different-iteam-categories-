{
 "cells": [
  {
   "cell_type": "code",
   "execution_count": 1,
   "id": "8ade994d",
   "metadata": {},
   "outputs": [],
   "source": [
    "import numpy as np, pandas as pd, matplotlib.pyplot as plt, seaborn as sns\n",
    "from sklearn.metrics import classification_report, confusion_matrix, accuracy_score\n",
    "import spacy\n",
    "from sklearn.model_selection import train_test_split"
   ]
  },
  {
   "cell_type": "code",
   "execution_count": 2,
   "id": "5eddcc9d",
   "metadata": {},
   "outputs": [
    {
     "data": {
      "text/html": [
       "<div>\n",
       "<style scoped>\n",
       "    .dataframe tbody tr th:only-of-type {\n",
       "        vertical-align: middle;\n",
       "    }\n",
       "\n",
       "    .dataframe tbody tr th {\n",
       "        vertical-align: top;\n",
       "    }\n",
       "\n",
       "    .dataframe thead th {\n",
       "        text-align: right;\n",
       "    }\n",
       "</style>\n",
       "<table border=\"1\" class=\"dataframe\">\n",
       "  <thead>\n",
       "    <tr style=\"text-align: right;\">\n",
       "      <th></th>\n",
       "      <th>title</th>\n",
       "      <th>category</th>\n",
       "    </tr>\n",
       "  </thead>\n",
       "  <tbody>\n",
       "    <tr>\n",
       "      <th>0</th>\n",
       "      <td>The Three Amigos</td>\n",
       "      <td>None</td>\n",
       "    </tr>\n",
       "    <tr>\n",
       "      <th>1</th>\n",
       "      <td>Home Essentials Blue Floral Glass Vintage Styl...</td>\n",
       "      <td>Home &amp; Kitchen</td>\n",
       "    </tr>\n",
       "    <tr>\n",
       "      <th>2</th>\n",
       "      <td>Cooper Wiring Quiet Toggle Switch Single Pole ...</td>\n",
       "      <td>Tools &amp; Home Improvement</td>\n",
       "    </tr>\n",
       "    <tr>\n",
       "      <th>3</th>\n",
       "      <td>Baseboarders&amp;reg; Wall Brackets</td>\n",
       "      <td>Tools &amp; Home Improvement</td>\n",
       "    </tr>\n",
       "    <tr>\n",
       "      <th>4</th>\n",
       "      <td>The Great Wave Off Kanagawa Custom Rectangle M...</td>\n",
       "      <td>Office Products</td>\n",
       "    </tr>\n",
       "  </tbody>\n",
       "</table>\n",
       "</div>"
      ],
      "text/plain": [
       "                                               title                  category\n",
       "0                                   The Three Amigos                      None\n",
       "1  Home Essentials Blue Floral Glass Vintage Styl...            Home & Kitchen\n",
       "2  Cooper Wiring Quiet Toggle Switch Single Pole ...  Tools & Home Improvement\n",
       "3                    Baseboarders&reg; Wall Brackets  Tools & Home Improvement\n",
       "4  The Great Wave Off Kanagawa Custom Rectangle M...           Office Products"
      ]
     },
     "execution_count": 2,
     "metadata": {},
     "output_type": "execute_result"
    }
   ],
   "source": [
    "df_train = pd.read_csv(\"D:\\\\Data science\\\\Final project\\\\category\\\\training_data.csv\")\n",
    "df_train.head()"
   ]
  },
  {
   "cell_type": "code",
   "execution_count": 3,
   "id": "bdc9d17a",
   "metadata": {},
   "outputs": [
    {
     "data": {
      "text/html": [
       "<div>\n",
       "<style scoped>\n",
       "    .dataframe tbody tr th:only-of-type {\n",
       "        vertical-align: middle;\n",
       "    }\n",
       "\n",
       "    .dataframe tbody tr th {\n",
       "        vertical-align: top;\n",
       "    }\n",
       "\n",
       "    .dataframe thead th {\n",
       "        text-align: right;\n",
       "    }\n",
       "</style>\n",
       "<table border=\"1\" class=\"dataframe\">\n",
       "  <thead>\n",
       "    <tr style=\"text-align: right;\">\n",
       "      <th></th>\n",
       "      <th>title</th>\n",
       "      <th>category</th>\n",
       "    </tr>\n",
       "  </thead>\n",
       "  <tbody>\n",
       "    <tr>\n",
       "      <th>0</th>\n",
       "      <td>Pom Pom Hair Band Rabbit Light Grey Decorative...</td>\n",
       "      <td>NaN</td>\n",
       "    </tr>\n",
       "    <tr>\n",
       "      <th>1</th>\n",
       "      <td>Mariposa Golf Ball Napkin Weight</td>\n",
       "      <td>NaN</td>\n",
       "    </tr>\n",
       "    <tr>\n",
       "      <th>2</th>\n",
       "      <td>Mediterranean Snack Food Roasted Garlic Hummuz...</td>\n",
       "      <td>NaN</td>\n",
       "    </tr>\n",
       "    <tr>\n",
       "      <th>3</th>\n",
       "      <td>John Deere 0071750GX22269 Genuine Original Equ...</td>\n",
       "      <td>NaN</td>\n",
       "    </tr>\n",
       "    <tr>\n",
       "      <th>4</th>\n",
       "      <td>Protech Wood Cleanr Gl,PERFORMANCE COATINGS IN...</td>\n",
       "      <td>NaN</td>\n",
       "    </tr>\n",
       "  </tbody>\n",
       "</table>\n",
       "</div>"
      ],
      "text/plain": [
       "                                               title  category\n",
       "0  Pom Pom Hair Band Rabbit Light Grey Decorative...       NaN\n",
       "1                   Mariposa Golf Ball Napkin Weight       NaN\n",
       "2  Mediterranean Snack Food Roasted Garlic Hummuz...       NaN\n",
       "3  John Deere 0071750GX22269 Genuine Original Equ...       NaN\n",
       "4  Protech Wood Cleanr Gl,PERFORMANCE COATINGS IN...       NaN"
      ]
     },
     "execution_count": 3,
     "metadata": {},
     "output_type": "execute_result"
    }
   ],
   "source": [
    "df_test = pd.read_csv(\"D:\\\\Data science\\\\Final project\\\\category\\\\testing_data.csv\")\n",
    "df_test.head()"
   ]
  },
  {
   "cell_type": "code",
   "execution_count": 4,
   "id": "3110c22e",
   "metadata": {},
   "outputs": [
    {
     "data": {
      "text/plain": [
       "(20188, 2)"
      ]
     },
     "execution_count": 4,
     "metadata": {},
     "output_type": "execute_result"
    }
   ],
   "source": [
    "df_train.shape"
   ]
  },
  {
   "cell_type": "code",
   "execution_count": 5,
   "id": "dc1a56ae",
   "metadata": {},
   "outputs": [
    {
     "data": {
      "text/plain": [
       "array(['None', 'Home & Kitchen', 'Tools & Home Improvement',\n",
       "       'Office Products', 'Grocery & Gourmet Food', 'Electronics',\n",
       "       'Industrial & Scientific'], dtype=object)"
      ]
     },
     "execution_count": 5,
     "metadata": {},
     "output_type": "execute_result"
    }
   ],
   "source": [
    "df_train['category'].unique()"
   ]
  },
  {
   "cell_type": "code",
   "execution_count": 6,
   "id": "cf9017ee",
   "metadata": {},
   "outputs": [
    {
     "data": {
      "text/plain": [
       "None                        10123\n",
       "Home & Kitchen               4960\n",
       "Tools & Home Improvement     2080\n",
       "Office Products              1144\n",
       "Grocery & Gourmet Food       1102\n",
       "Industrial & Scientific       588\n",
       "Electronics                   191\n",
       "Name: category, dtype: int64"
      ]
     },
     "execution_count": 6,
     "metadata": {},
     "output_type": "execute_result"
    }
   ],
   "source": [
    "df_train['category'].value_counts()"
   ]
  },
  {
   "cell_type": "code",
   "execution_count": 7,
   "id": "204f07ff",
   "metadata": {},
   "outputs": [
    {
     "data": {
      "text/plain": [
       "title       0\n",
       "category    0\n",
       "dtype: int64"
      ]
     },
     "execution_count": 7,
     "metadata": {},
     "output_type": "execute_result"
    }
   ],
   "source": [
    "df_train.isnull().sum()"
   ]
  },
  {
   "cell_type": "code",
   "execution_count": 8,
   "id": "2a00db97",
   "metadata": {},
   "outputs": [],
   "source": [
    "df_train.category.replace(to_replace=['None'], value=np.nan, inplace=True)"
   ]
  },
  {
   "cell_type": "code",
   "execution_count": 9,
   "id": "4c70f7f8",
   "metadata": {},
   "outputs": [
    {
     "data": {
      "text/plain": [
       "title           0\n",
       "category    10123\n",
       "dtype: int64"
      ]
     },
     "execution_count": 9,
     "metadata": {},
     "output_type": "execute_result"
    }
   ],
   "source": [
    "df_train.isnull().sum()"
   ]
  },
  {
   "cell_type": "code",
   "execution_count": 10,
   "id": "9c60d5f1",
   "metadata": {},
   "outputs": [],
   "source": [
    "df_train.dropna(inplace=True)"
   ]
  },
  {
   "cell_type": "code",
   "execution_count": 11,
   "id": "e293e4fd",
   "metadata": {},
   "outputs": [
    {
     "data": {
      "text/plain": [
       "(10065, 2)"
      ]
     },
     "execution_count": 11,
     "metadata": {},
     "output_type": "execute_result"
    }
   ],
   "source": [
    "df_train.shape"
   ]
  },
  {
   "cell_type": "code",
   "execution_count": 12,
   "id": "00d7c90d",
   "metadata": {},
   "outputs": [
    {
     "name": "stdout",
     "output_type": "stream",
     "text": [
      "[]\n"
     ]
    }
   ],
   "source": [
    "blanks = []\n",
    "\n",
    "for i,l,r in df_train.itertuples():\n",
    "    if type(r) == str:\n",
    "        if r.isspace():\n",
    "            blanks.append(i)\n",
    "            \n",
    "print(blanks)"
   ]
  },
  {
   "cell_type": "code",
   "execution_count": 13,
   "id": "d3f1193f",
   "metadata": {},
   "outputs": [],
   "source": [
    "X = df_train['title']\n",
    "\n",
    "# label\n",
    "y = df_train['category']"
   ]
  },
  {
   "cell_type": "code",
   "execution_count": 14,
   "id": "b76794a5",
   "metadata": {},
   "outputs": [],
   "source": [
    "\n",
    "X_train, X_test, y_train, y_test = train_test_split(X, y, test_size=0.3, random_state=42)"
   ]
  },
  {
   "cell_type": "code",
   "execution_count": 15,
   "id": "1df872c3",
   "metadata": {},
   "outputs": [],
   "source": [
    "from sklearn.pipeline import Pipeline\n",
    "from sklearn.feature_extraction.text import TfidfVectorizer\n",
    "from sklearn.svm import LinearSVC"
   ]
  },
  {
   "cell_type": "code",
   "execution_count": 16,
   "id": "4ca167d0",
   "metadata": {},
   "outputs": [],
   "source": [
    "model1 = Pipeline([('tfidf', TfidfVectorizer()), ('clf', LinearSVC())])"
   ]
  },
  {
   "cell_type": "code",
   "execution_count": 17,
   "id": "f9f5b423",
   "metadata": {},
   "outputs": [
    {
     "data": {
      "text/plain": [
       "Pipeline(steps=[('tfidf', TfidfVectorizer()), ('clf', LinearSVC())])"
      ]
     },
     "execution_count": 17,
     "metadata": {},
     "output_type": "execute_result"
    }
   ],
   "source": [
    "model1.fit(X_train, y_train)"
   ]
  },
  {
   "cell_type": "code",
   "execution_count": 18,
   "id": "62d8d3ba",
   "metadata": {},
   "outputs": [],
   "source": [
    "prediction1 = model1.predict(X_test)"
   ]
  },
  {
   "cell_type": "code",
   "execution_count": 19,
   "id": "5c0084c6",
   "metadata": {},
   "outputs": [
    {
     "name": "stdout",
     "output_type": "stream",
     "text": [
      "[[  28    0   11    1    6   13]\n",
      " [   0  286   34    2    0    1]\n",
      " [   0   12 1411    7   17   52]\n",
      " [   1    3   31   83   10   41]\n",
      " [   3    2   69    9  267   16]\n",
      " [   1    0   96    8   18  481]]\n"
     ]
    }
   ],
   "source": [
    "print(confusion_matrix(y_test, prediction1))"
   ]
  },
  {
   "cell_type": "code",
   "execution_count": 20,
   "id": "b885b096",
   "metadata": {},
   "outputs": [
    {
     "name": "stdout",
     "output_type": "stream",
     "text": [
      "                          precision    recall  f1-score   support\n",
      "\n",
      "             Electronics       0.85      0.47      0.61        59\n",
      "  Grocery & Gourmet Food       0.94      0.89      0.91       323\n",
      "          Home & Kitchen       0.85      0.94      0.90      1499\n",
      " Industrial & Scientific       0.75      0.49      0.59       169\n",
      "         Office Products       0.84      0.73      0.78       366\n",
      "Tools & Home Improvement       0.80      0.80      0.80       604\n",
      "\n",
      "                accuracy                           0.85      3020\n",
      "               macro avg       0.84      0.72      0.77      3020\n",
      "            weighted avg       0.84      0.85      0.84      3020\n",
      "\n"
     ]
    }
   ],
   "source": [
    "print(classification_report(y_test, prediction1))"
   ]
  },
  {
   "cell_type": "code",
   "execution_count": 21,
   "id": "cd995df2",
   "metadata": {},
   "outputs": [
    {
     "name": "stdout",
     "output_type": "stream",
     "text": [
      "0.8463576158940397\n"
     ]
    }
   ],
   "source": [
    "print(accuracy_score(y_test, prediction1))"
   ]
  },
  {
   "cell_type": "code",
   "execution_count": 24,
   "id": "ac71c511",
   "metadata": {},
   "outputs": [],
   "source": [
    "from sklearn.model_selection import GridSearchCV"
   ]
  },
  {
   "cell_type": "code",
   "execution_count": 25,
   "id": "76374cc3",
   "metadata": {},
   "outputs": [],
   "source": [
    "model_grid_search = Pipeline([('tfidf', TfidfVectorizer()), ('clf', LinearSVC(random_state=42))])\n",
    "\n",
    "parameters = [{\n",
    "    'tfidf__max_df': (0.25, 0.5, 0.75),\n",
    "    'tfidf__max_features': (None, 5000, 10000, 50000),\n",
    "    'tfidf__ngram_range': [(1, 1), (1, 2), (1, 3)]\n",
    "},{\n",
    "    'clf__C': [0.00001, 0.0001, 0.0005],\n",
    "    'clf__dual': (True, False)\n",
    "}]\n",
    "\n",
    "grid_search = GridSearchCV(estimator=model_grid_search, param_grid=parameters, verbose=1, n_jobs=-1, cv=4)"
   ]
  },
  {
   "cell_type": "code",
   "execution_count": 26,
   "id": "7d44b2e7",
   "metadata": {},
   "outputs": [
    {
     "name": "stdout",
     "output_type": "stream",
     "text": [
      "Fitting 4 folds for each of 42 candidates, totalling 168 fits\n"
     ]
    },
    {
     "data": {
      "text/plain": [
       "GridSearchCV(cv=4,\n",
       "             estimator=Pipeline(steps=[('tfidf', TfidfVectorizer()),\n",
       "                                       ('clf', LinearSVC(random_state=42))]),\n",
       "             n_jobs=-1,\n",
       "             param_grid=[{'tfidf__max_df': (0.25, 0.5, 0.75),\n",
       "                          'tfidf__max_features': (None, 5000, 10000, 50000),\n",
       "                          'tfidf__ngram_range': [(1, 1), (1, 2), (1, 3)]},\n",
       "                         {'clf__C': [1e-05, 0.0001, 0.0005],\n",
       "                          'clf__dual': (True, False)}],\n",
       "             verbose=1)"
      ]
     },
     "execution_count": 26,
     "metadata": {},
     "output_type": "execute_result"
    }
   ],
   "source": [
    "grid_search.fit(X_train, y_train)"
   ]
  },
  {
   "cell_type": "code",
   "execution_count": 27,
   "id": "aac5731b",
   "metadata": {},
   "outputs": [
    {
     "data": {
      "text/plain": [
       "Pipeline(steps=[('tfidf', TfidfVectorizer(max_df=0.25)),\n",
       "                ('clf', LinearSVC(random_state=42))])"
      ]
     },
     "execution_count": 27,
     "metadata": {},
     "output_type": "execute_result"
    }
   ],
   "source": [
    "grid_search.best_estimator_"
   ]
  },
  {
   "cell_type": "code",
   "execution_count": 28,
   "id": "69c28a01",
   "metadata": {},
   "outputs": [
    {
     "data": {
      "text/plain": [
       "0.8218610150176513"
      ]
     },
     "execution_count": 28,
     "metadata": {},
     "output_type": "execute_result"
    }
   ],
   "source": [
    "grid_search.best_score_"
   ]
  },
  {
   "cell_type": "code",
   "execution_count": 29,
   "id": "4423607c",
   "metadata": {},
   "outputs": [
    {
     "data": {
      "text/plain": [
       "{'tfidf__max_df': 0.25,\n",
       " 'tfidf__max_features': None,\n",
       " 'tfidf__ngram_range': (1, 1)}"
      ]
     },
     "execution_count": 29,
     "metadata": {},
     "output_type": "execute_result"
    }
   ],
   "source": [
    "grid_search.best_params_"
   ]
  },
  {
   "cell_type": "code",
   "execution_count": 30,
   "id": "e967217d",
   "metadata": {},
   "outputs": [],
   "source": [
    "model2 = Pipeline([('tfidf', TfidfVectorizer(max_df=0.25,\n",
    "                                               max_features=50000,\n",
    "                                              ngram_range=(1,2))),\n",
    "                     ('clf', LinearSVC(random_state=42))\n",
    "                    ])"
   ]
  },
  {
   "cell_type": "code",
   "execution_count": 31,
   "id": "18ea7ce0",
   "metadata": {},
   "outputs": [
    {
     "data": {
      "text/plain": [
       "Pipeline(steps=[('tfidf',\n",
       "                 TfidfVectorizer(max_df=0.25, max_features=50000,\n",
       "                                 ngram_range=(1, 2))),\n",
       "                ('clf', LinearSVC(random_state=42))])"
      ]
     },
     "execution_count": 31,
     "metadata": {},
     "output_type": "execute_result"
    }
   ],
   "source": [
    "model2.fit(X_train, y_train)"
   ]
  },
  {
   "cell_type": "code",
   "execution_count": 32,
   "id": "d247edc1",
   "metadata": {},
   "outputs": [],
   "source": [
    "prediction2 = model2.predict(X_test)"
   ]
  },
  {
   "cell_type": "code",
   "execution_count": 33,
   "id": "be9a706e",
   "metadata": {},
   "outputs": [
    {
     "name": "stdout",
     "output_type": "stream",
     "text": [
      "[[  30    0   11    1    8    9]\n",
      " [   0  290   31    0    0    2]\n",
      " [   0   16 1414    6   11   52]\n",
      " [   1    3   31   89    6   39]\n",
      " [   3    4   75    8  261   15]\n",
      " [   1    3   94   11   13  482]]\n"
     ]
    }
   ],
   "source": [
    "print(confusion_matrix(y_test, prediction2))"
   ]
  },
  {
   "cell_type": "code",
   "execution_count": 34,
   "id": "d2ddaabc",
   "metadata": {},
   "outputs": [
    {
     "name": "stdout",
     "output_type": "stream",
     "text": [
      "                          precision    recall  f1-score   support\n",
      "\n",
      "             Electronics       0.86      0.51      0.64        59\n",
      "  Grocery & Gourmet Food       0.92      0.90      0.91       323\n",
      "          Home & Kitchen       0.85      0.94      0.90      1499\n",
      " Industrial & Scientific       0.77      0.53      0.63       169\n",
      "         Office Products       0.87      0.71      0.78       366\n",
      "Tools & Home Improvement       0.80      0.80      0.80       604\n",
      "\n",
      "                accuracy                           0.85      3020\n",
      "               macro avg       0.85      0.73      0.78      3020\n",
      "            weighted avg       0.85      0.85      0.84      3020\n",
      "\n"
     ]
    }
   ],
   "source": [
    "print(classification_report(y_test, prediction2))"
   ]
  },
  {
   "cell_type": "code",
   "execution_count": 35,
   "id": "0bec0276",
   "metadata": {},
   "outputs": [
    {
     "name": "stdout",
     "output_type": "stream",
     "text": [
      "0.8496688741721854\n"
     ]
    }
   ],
   "source": [
    "print(accuracy_score(y_test, prediction2))"
   ]
  },
  {
   "cell_type": "code",
   "execution_count": 36,
   "id": "b84b5d68",
   "metadata": {},
   "outputs": [
    {
     "name": "stdout",
     "output_type": "stream",
     "text": [
      "First Prediction:\n",
      "                           precision    recall  f1-score   support\n",
      "\n",
      "             Electronics       0.85      0.47      0.61        59\n",
      "  Grocery & Gourmet Food       0.94      0.89      0.91       323\n",
      "          Home & Kitchen       0.85      0.94      0.90      1499\n",
      " Industrial & Scientific       0.75      0.49      0.59       169\n",
      "         Office Products       0.84      0.73      0.78       366\n",
      "Tools & Home Improvement       0.80      0.80      0.80       604\n",
      "\n",
      "                accuracy                           0.85      3020\n",
      "               macro avg       0.84      0.72      0.77      3020\n",
      "            weighted avg       0.84      0.85      0.84      3020\n",
      " \n",
      "\n",
      "Second Prediciton:\n",
      "                           precision    recall  f1-score   support\n",
      "\n",
      "             Electronics       0.86      0.51      0.64        59\n",
      "  Grocery & Gourmet Food       0.92      0.90      0.91       323\n",
      "          Home & Kitchen       0.85      0.94      0.90      1499\n",
      " Industrial & Scientific       0.77      0.53      0.63       169\n",
      "         Office Products       0.87      0.71      0.78       366\n",
      "Tools & Home Improvement       0.80      0.80      0.80       604\n",
      "\n",
      "                accuracy                           0.85      3020\n",
      "               macro avg       0.85      0.73      0.78      3020\n",
      "            weighted avg       0.85      0.85      0.84      3020\n",
      "\n"
     ]
    }
   ],
   "source": [
    "print(\"First Prediction:\\n\",classification_report(y_test, prediction1),\"\\n\\nSecond Prediciton:\\n\",classification_report(y_test, prediction2))"
   ]
  },
  {
   "cell_type": "code",
   "execution_count": 37,
   "id": "353b966d",
   "metadata": {},
   "outputs": [],
   "source": [
    "# feature\n",
    "X_t = df_test['title']\n",
    "\n",
    "# label\n",
    "y_t = df_test['category']"
   ]
  },
  {
   "cell_type": "code",
   "execution_count": 38,
   "id": "a67156ce",
   "metadata": {},
   "outputs": [],
   "source": [
    "getting_categories = model2.predict(X_t)"
   ]
  },
  {
   "cell_type": "code",
   "execution_count": 39,
   "id": "5b99f4a4",
   "metadata": {},
   "outputs": [
    {
     "data": {
      "text/plain": [
       "(10094, 10094)"
      ]
     },
     "execution_count": 39,
     "metadata": {},
     "output_type": "execute_result"
    }
   ],
   "source": [
    "len(getting_categories), len(df_test)"
   ]
  },
  {
   "cell_type": "code",
   "execution_count": 40,
   "id": "285828e4",
   "metadata": {},
   "outputs": [],
   "source": [
    "df_test['category'] = getting_categories"
   ]
  },
  {
   "cell_type": "code",
   "execution_count": 43,
   "id": "0f55e4a7",
   "metadata": {},
   "outputs": [
    {
     "data": {
      "text/html": [
       "<div>\n",
       "<style scoped>\n",
       "    .dataframe tbody tr th:only-of-type {\n",
       "        vertical-align: middle;\n",
       "    }\n",
       "\n",
       "    .dataframe tbody tr th {\n",
       "        vertical-align: top;\n",
       "    }\n",
       "\n",
       "    .dataframe thead th {\n",
       "        text-align: right;\n",
       "    }\n",
       "</style>\n",
       "<table border=\"1\" class=\"dataframe\">\n",
       "  <thead>\n",
       "    <tr style=\"text-align: right;\">\n",
       "      <th></th>\n",
       "      <th>title</th>\n",
       "      <th>category</th>\n",
       "    </tr>\n",
       "  </thead>\n",
       "  <tbody>\n",
       "    <tr>\n",
       "      <th>0</th>\n",
       "      <td>Pom Pom Hair Band Rabbit Light Grey Decorative...</td>\n",
       "      <td>Home &amp; Kitchen</td>\n",
       "    </tr>\n",
       "    <tr>\n",
       "      <th>1</th>\n",
       "      <td>Mariposa Golf Ball Napkin Weight</td>\n",
       "      <td>Home &amp; Kitchen</td>\n",
       "    </tr>\n",
       "    <tr>\n",
       "      <th>2</th>\n",
       "      <td>Mediterranean Snack Food Roasted Garlic Hummuz...</td>\n",
       "      <td>Grocery &amp; Gourmet Food</td>\n",
       "    </tr>\n",
       "    <tr>\n",
       "      <th>3</th>\n",
       "      <td>John Deere 0071750GX22269 Genuine Original Equ...</td>\n",
       "      <td>Home &amp; Kitchen</td>\n",
       "    </tr>\n",
       "    <tr>\n",
       "      <th>4</th>\n",
       "      <td>Protech Wood Cleanr Gl,PERFORMANCE COATINGS IN...</td>\n",
       "      <td>Home &amp; Kitchen</td>\n",
       "    </tr>\n",
       "    <tr>\n",
       "      <th>5</th>\n",
       "      <td>tic tac Holiday Candy Cane and Cherry Apple Tw...</td>\n",
       "      <td>Grocery &amp; Gourmet Food</td>\n",
       "    </tr>\n",
       "    <tr>\n",
       "      <th>6</th>\n",
       "      <td>DENIED Red Office Stock Self-Inking Rubber Stamp</td>\n",
       "      <td>Office Products</td>\n",
       "    </tr>\n",
       "    <tr>\n",
       "      <th>7</th>\n",
       "      <td>Replacement Message Board Face with Tracks for...</td>\n",
       "      <td>Office Products</td>\n",
       "    </tr>\n",
       "    <tr>\n",
       "      <th>8</th>\n",
       "      <td>Bundle - 3 Items: Sweet Baby Ray's Buffalo Win...</td>\n",
       "      <td>Grocery &amp; Gourmet Food</td>\n",
       "    </tr>\n",
       "    <tr>\n",
       "      <th>9</th>\n",
       "      <td>BravoVision Fashion Custom Chicago Scenery Wat...</td>\n",
       "      <td>Home &amp; Kitchen</td>\n",
       "    </tr>\n",
       "    <tr>\n",
       "      <th>10</th>\n",
       "      <td>Scholastic Teacher's Friend 3-Column Chart Poc...</td>\n",
       "      <td>Office Products</td>\n",
       "    </tr>\n",
       "    <tr>\n",
       "      <th>11</th>\n",
       "      <td>ALEKO FOPR36 Artificial 36 Inch Long Japanese ...</td>\n",
       "      <td>Home &amp; Kitchen</td>\n",
       "    </tr>\n",
       "    <tr>\n",
       "      <th>12</th>\n",
       "      <td>Garmin B60 600W Tilted Element 20&amp;deg; - 8 Pin</td>\n",
       "      <td>Tools &amp; Home Improvement</td>\n",
       "    </tr>\n",
       "    <tr>\n",
       "      <th>13</th>\n",
       "      <td>Estwing E3-11 12-Ounce Drywall Hammer with Nyl...</td>\n",
       "      <td>Tools &amp; Home Improvement</td>\n",
       "    </tr>\n",
       "    <tr>\n",
       "      <th>14</th>\n",
       "      <td>ModHaus Diamond Button Tufted Clipped Corners ...</td>\n",
       "      <td>Home &amp; Kitchen</td>\n",
       "    </tr>\n",
       "    <tr>\n",
       "      <th>15</th>\n",
       "      <td>Yummy Grandmummy, Chihuahua with Pink Roses im...</td>\n",
       "      <td>Home &amp; Kitchen</td>\n",
       "    </tr>\n",
       "    <tr>\n",
       "      <th>16</th>\n",
       "      <td>Zorpia&amp;reg; Laser Cut 50 X Wedding Candy Box W...</td>\n",
       "      <td>Home &amp; Kitchen</td>\n",
       "    </tr>\n",
       "    <tr>\n",
       "      <th>17</th>\n",
       "      <td>HP Officejet Pro L7780 Color All-in-One Printe...</td>\n",
       "      <td>Office Products</td>\n",
       "    </tr>\n",
       "    <tr>\n",
       "      <th>18</th>\n",
       "      <td>Basix Deli Food Storage Container Lids 8 Ounce...</td>\n",
       "      <td>Home &amp; Kitchen</td>\n",
       "    </tr>\n",
       "    <tr>\n",
       "      <th>19</th>\n",
       "      <td>GOARTEA 50g (1.76 Oz) Organic Red Rosebud Rose...</td>\n",
       "      <td>Grocery &amp; Gourmet Food</td>\n",
       "    </tr>\n",
       "  </tbody>\n",
       "</table>\n",
       "</div>"
      ],
      "text/plain": [
       "                                                title  \\\n",
       "0   Pom Pom Hair Band Rabbit Light Grey Decorative...   \n",
       "1                    Mariposa Golf Ball Napkin Weight   \n",
       "2   Mediterranean Snack Food Roasted Garlic Hummuz...   \n",
       "3   John Deere 0071750GX22269 Genuine Original Equ...   \n",
       "4   Protech Wood Cleanr Gl,PERFORMANCE COATINGS IN...   \n",
       "5   tic tac Holiday Candy Cane and Cherry Apple Tw...   \n",
       "6    DENIED Red Office Stock Self-Inking Rubber Stamp   \n",
       "7   Replacement Message Board Face with Tracks for...   \n",
       "8   Bundle - 3 Items: Sweet Baby Ray's Buffalo Win...   \n",
       "9   BravoVision Fashion Custom Chicago Scenery Wat...   \n",
       "10  Scholastic Teacher's Friend 3-Column Chart Poc...   \n",
       "11  ALEKO FOPR36 Artificial 36 Inch Long Japanese ...   \n",
       "12     Garmin B60 600W Tilted Element 20&deg; - 8 Pin   \n",
       "13  Estwing E3-11 12-Ounce Drywall Hammer with Nyl...   \n",
       "14  ModHaus Diamond Button Tufted Clipped Corners ...   \n",
       "15  Yummy Grandmummy, Chihuahua with Pink Roses im...   \n",
       "16  Zorpia&reg; Laser Cut 50 X Wedding Candy Box W...   \n",
       "17  HP Officejet Pro L7780 Color All-in-One Printe...   \n",
       "18  Basix Deli Food Storage Container Lids 8 Ounce...   \n",
       "19  GOARTEA 50g (1.76 Oz) Organic Red Rosebud Rose...   \n",
       "\n",
       "                    category  \n",
       "0             Home & Kitchen  \n",
       "1             Home & Kitchen  \n",
       "2     Grocery & Gourmet Food  \n",
       "3             Home & Kitchen  \n",
       "4             Home & Kitchen  \n",
       "5     Grocery & Gourmet Food  \n",
       "6            Office Products  \n",
       "7            Office Products  \n",
       "8     Grocery & Gourmet Food  \n",
       "9             Home & Kitchen  \n",
       "10           Office Products  \n",
       "11            Home & Kitchen  \n",
       "12  Tools & Home Improvement  \n",
       "13  Tools & Home Improvement  \n",
       "14            Home & Kitchen  \n",
       "15            Home & Kitchen  \n",
       "16            Home & Kitchen  \n",
       "17           Office Products  \n",
       "18            Home & Kitchen  \n",
       "19    Grocery & Gourmet Food  "
      ]
     },
     "execution_count": 43,
     "metadata": {},
     "output_type": "execute_result"
    }
   ],
   "source": [
    "df_test.head(20)"
   ]
  },
  {
   "cell_type": "code",
   "execution_count": null,
   "id": "98d5ce20",
   "metadata": {},
   "outputs": [],
   "source": []
  }
 ],
 "metadata": {
  "kernelspec": {
   "display_name": "Python 3 (ipykernel)",
   "language": "python",
   "name": "python3"
  },
  "language_info": {
   "codemirror_mode": {
    "name": "ipython",
    "version": 3
   },
   "file_extension": ".py",
   "mimetype": "text/x-python",
   "name": "python",
   "nbconvert_exporter": "python",
   "pygments_lexer": "ipython3",
   "version": "3.9.7"
  }
 },
 "nbformat": 4,
 "nbformat_minor": 5
}
